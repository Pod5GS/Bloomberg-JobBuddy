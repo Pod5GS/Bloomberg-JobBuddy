{
 "cells": [
  {
   "cell_type": "code",
   "execution_count": 1,
   "metadata": {
    "collapsed": true
   },
   "outputs": [],
   "source": [
    "from random import randint\n",
    "import csv\n",
    "menteeInterests = 'Python, Java, C++, C, C#, Objective-C, Ruby, Javascript, Swift, React, Angular, HTML, CSS, Photoshop, Illustrator, AfterEffect, Wireframing, RESTful APIs, Bootstrap, jQuery, Git, Flask, Datastrcutes and Algorithms, Operating System, Linux, Go, Perl, Unix, TCP, IP, SDN, NodeJS, XML, NoSQL, SOAP, REST APIs, GraphQL, UI, UX, CAD, CAM, PaaS, IaaS, Cloud, RFI, RFP, SQL'.split(', ')\n",
    "titles = 'UX Designer, Front-End Software Engineer, Back-End Software Engineer, Mobile Software Engineer, Full Stack Software Engineer, Site Reliability Engineer, Quality Assurance Engineer, Enterprise Engineer, Product Engineer, Sales Engineer'.split(', ')\n",
    "mentorSkills = {'UX Designer': 'HTML, CSS, Photoshop, Illustrator, AfterEffect, Wireframing', 'Front-End Software Engineer': 'HTML, CSS, Javascript, RESTful APIs, Bootstrap, jQuery, Angular, React, Git', 'Back-End Software Engineer': 'C, C++, Java, C#, Ruby, Python, Flask, Datastrcutes and Algorithms, Operating System, Linux, Git', 'Mobile Software Engineer': 'Java, C#, Objective-C, Swift', 'Full Stack Software Engineer': 'HTML, CSS, Javascript, RESTful APIs, Bootstrap, jQuery, Angular, React, Git, C, C++, Java, C#, Ruby, Python, Flask, Datastrcutes and Algorithms, Operating System, Linux', 'Site Reliability Engineer': 'C, C++, Java, Python, Go, Perl, Ruby, Unix, Linux, TCP, IP, SDN', 'Quality Assurance Engineer': 'HTML, CSS, XML, NodeJS, Angular, NoSQL', 'Enterprise Engineer': 'SOAP, REST APIs, GraphQL, React, Angular, UI, UX', 'Product Engineer': 'CAD, CAM', 'Sales Engineer': 'PaaS, IaaS, Cloud, RFI, RFP, SQL'}\n",
    "gender = ['male', 'female']\n",
    "location = ['NY', 'CA', 'TX', 'WA', 'NJ', 'GA', 'UT', 'AZ']\n",
    "menteeeducation = ['highschool', 'bachelor']\n",
    "mentoreducation = ['bachelor', 'master', 'phd']\n",
    "\n",
    "with open('validation.csv', 'wb') as f:\n",
    "    header = 'mentorRating,menteeId,menteeGender,menteeEducation,menteeLocation,menteeInterests,mentorId,mentorGender,mentorEducation,mentorLocation,mentorTitle,mentorSkillsets\\n'\n",
    "    f.write(header)\n",
    "    for menteeId in range(50):\n",
    "        menteegender = gender[randint(0, 1)]\n",
    "        menteeedu = menteeeducation[randint(0, 1)]\n",
    "        menteelocation = location[randint(0, 7)]\n",
    "        menteeinterests = ''\n",
    "        for i in range(5):\n",
    "            menteeinterests += menteeInterests[randint(0, 46)] + '/'\n",
    "        for mentorId in range(10):\n",
    "            mentorgender = gender[randint(0, 1)]\n",
    "            mentoredu = mentoreducation[randint(0, 1)]\n",
    "            mentorlocation = location[randint(0, 7)]\n",
    "            mentortitle = titles[randint(0, 9)]\n",
    "            skillset = mentorSkills[mentortitle].replace(', ', '/')\n",
    "            rating = randint(0, 10)\n",
    "            line = str(rating) + ',' + str(menteeId) + ',' + menteegender + ',' + menteeedu + ',' + menteelocation + ',' + menteeinterests + ',' + str(mentorId) + ',' + mentorgender + ',' + mentoredu + ',' + mentorlocation + ',' + mentortitle + ',' + skillset + '\\n'\n",
    "            f.write(line)"
   ]
  },
  {
   "cell_type": "code",
   "execution_count": 4,
   "metadata": {},
   "outputs": [
    {
     "name": "stdout",
     "output_type": "stream",
     "text": [
      " Front-End Software Engineer 75\n",
      "UX Designer 59\n",
      "Back-End Software Engineer 96\n",
      "Sales Engineer 32\n",
      "Quality Assurance Engineer 38\n",
      "Mobile Software Engineer 28\n",
      "Site Reliability Engineer 63\n",
      "Product Engineer 8\n",
      "Enterprise Engineer 48\n",
      "Full Stack Software Engineer 168\n"
     ]
    }
   ],
   "source": [
    "for key in mentorSkills:\n",
    "    print key,\n",
    "    print len(mentorSkills[key])"
   ]
  }
 ],
 "metadata": {
  "kernelspec": {
   "display_name": "Python 2",
   "language": "python",
   "name": "python2"
  },
  "language_info": {
   "codemirror_mode": {
    "name": "ipython",
    "version": 2
   },
   "file_extension": ".py",
   "mimetype": "text/x-python",
   "name": "python",
   "nbconvert_exporter": "python",
   "pygments_lexer": "ipython2",
   "version": "2.7.13"
  }
 },
 "nbformat": 4,
 "nbformat_minor": 2
}
